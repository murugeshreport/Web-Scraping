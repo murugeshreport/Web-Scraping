{
 "cells": [
  {
   "cell_type": "code",
   "execution_count": 31,
   "id": "6156fdf7",
   "metadata": {},
   "outputs": [],
   "source": [
    "import pandas as pd\n",
    "import numpy as np\n",
    "import matplotlib.pyplot as plt\n",
    "import seaborn as sns"
   ]
  },
  {
   "cell_type": "code",
   "execution_count": 1,
   "id": "f71607f2",
   "metadata": {},
   "outputs": [
    {
     "name": "stderr",
     "output_type": "stream",
     "text": [
      "C:\\Users\\hp\\anaconda3\\lib\\site-packages\\numpy\\_distributor_init.py:30: UserWarning: loaded more than 1 DLL from .libs:\n",
      "C:\\Users\\hp\\anaconda3\\lib\\site-packages\\numpy\\.libs\\libopenblas.PYQHXLVVQ7VESDPUVUADXEVJOBGHJPAY.gfortran-win_amd64.dll\n",
      "C:\\Users\\hp\\anaconda3\\lib\\site-packages\\numpy\\.libs\\libopenblas.WCDJNK7YVMPZQ2ME2ZZHJJRJ3JIKNDB7.gfortran-win_amd64.dll\n",
      "  warnings.warn(\"loaded more than 1 DLL from .libs:\\n%s\" %\n"
     ]
    }
   ],
   "source": [
    "from bs4 import BeautifulSoup\n",
    "import requests,openpyxl"
   ]
  },
  {
   "cell_type": "code",
   "execution_count": 27,
   "id": "ab31398c",
   "metadata": {},
   "outputs": [],
   "source": [
    "moives = []"
   ]
  },
  {
   "cell_type": "code",
   "execution_count": 87,
   "id": "52705d52",
   "metadata": {},
   "outputs": [],
   "source": [
    "\n",
    "    response = requests.get('https://www.imdb.com/chart/top')\n",
    "    soup = BeautifulSoup(response.text,'html.parser')\n",
    "    m = soup.find('tbody',class_='lister-list').find_all('tr')\n",
    "    \n",
    "    for i in m:\n",
    "        rank = name = i.find('td',class_='titleColumn').get_text(strip=True).split('.')[0];\n",
    "        name = i.find('td',class_='titleColumn').a.text\n",
    "        rating = i.find('td',class_='ratingColumn imdbRating').strong.text\n",
    "        year = i.find('td',class_='titleColumn').span.text.replace('(',\"\")\n",
    "        year = year.replace(')',\"\")\n",
    "        \n",
    "        \n",
    "        \n",
    "        \n",
    "    \n",
    "        \n",
    "    \n",
    "        \n"
   ]
  },
  {
   "cell_type": "code",
   "execution_count": null,
   "id": "1621c468",
   "metadata": {},
   "outputs": [],
   "source": [
    "moives.append([rank,name,rating,year])\n",
    "        "
   ]
  },
  {
   "cell_type": "code",
   "execution_count": 33,
   "id": "d946a506",
   "metadata": {},
   "outputs": [],
   "source": [
    "moives = pd.DataFrame(moives)"
   ]
  },
  {
   "cell_type": "code",
   "execution_count": 34,
   "id": "32f37637",
   "metadata": {},
   "outputs": [],
   "source": [
    "moives.columns=['rank','moive_name','rating','year']"
   ]
  },
  {
   "cell_type": "code",
   "execution_count": 75,
   "id": "fd0816cb",
   "metadata": {},
   "outputs": [
    {
     "data": {
      "text/html": [
       "<div>\n",
       "<style scoped>\n",
       "    .dataframe tbody tr th:only-of-type {\n",
       "        vertical-align: middle;\n",
       "    }\n",
       "\n",
       "    .dataframe tbody tr th {\n",
       "        vertical-align: top;\n",
       "    }\n",
       "\n",
       "    .dataframe thead th {\n",
       "        text-align: right;\n",
       "    }\n",
       "</style>\n",
       "<table border=\"1\" class=\"dataframe\">\n",
       "  <thead>\n",
       "    <tr style=\"text-align: right;\">\n",
       "      <th></th>\n",
       "      <th>rank</th>\n",
       "      <th>moive_name</th>\n",
       "      <th>rating</th>\n",
       "      <th>year</th>\n",
       "    </tr>\n",
       "  </thead>\n",
       "  <tbody>\n",
       "    <tr>\n",
       "      <th>0</th>\n",
       "      <td>1</td>\n",
       "      <td>The Shawshank Redemption</td>\n",
       "      <td>9.2</td>\n",
       "      <td>1994</td>\n",
       "    </tr>\n",
       "    <tr>\n",
       "      <th>1</th>\n",
       "      <td>2</td>\n",
       "      <td>The Godfather</td>\n",
       "      <td>9.2</td>\n",
       "      <td>1972</td>\n",
       "    </tr>\n",
       "    <tr>\n",
       "      <th>2</th>\n",
       "      <td>3</td>\n",
       "      <td>The Dark Knight</td>\n",
       "      <td>9.0</td>\n",
       "      <td>2008</td>\n",
       "    </tr>\n",
       "    <tr>\n",
       "      <th>3</th>\n",
       "      <td>4</td>\n",
       "      <td>The Godfather Part II</td>\n",
       "      <td>9.0</td>\n",
       "      <td>1974</td>\n",
       "    </tr>\n",
       "    <tr>\n",
       "      <th>4</th>\n",
       "      <td>5</td>\n",
       "      <td>12 Angry Men</td>\n",
       "      <td>8.9</td>\n",
       "      <td>1957</td>\n",
       "    </tr>\n",
       "    <tr>\n",
       "      <th>...</th>\n",
       "      <td>...</td>\n",
       "      <td>...</td>\n",
       "      <td>...</td>\n",
       "      <td>...</td>\n",
       "    </tr>\n",
       "    <tr>\n",
       "      <th>245</th>\n",
       "      <td>246</td>\n",
       "      <td>Jai Bhim</td>\n",
       "      <td>8.0</td>\n",
       "      <td>2021</td>\n",
       "    </tr>\n",
       "    <tr>\n",
       "      <th>246</th>\n",
       "      <td>247</td>\n",
       "      <td>Aladdin</td>\n",
       "      <td>8.0</td>\n",
       "      <td>1992</td>\n",
       "    </tr>\n",
       "    <tr>\n",
       "      <th>247</th>\n",
       "      <td>248</td>\n",
       "      <td>Gandhi</td>\n",
       "      <td>8.0</td>\n",
       "      <td>1982</td>\n",
       "    </tr>\n",
       "    <tr>\n",
       "      <th>248</th>\n",
       "      <td>249</td>\n",
       "      <td>The Help</td>\n",
       "      <td>8.0</td>\n",
       "      <td>2011</td>\n",
       "    </tr>\n",
       "    <tr>\n",
       "      <th>249</th>\n",
       "      <td>250</td>\n",
       "      <td>The Iron Giant</td>\n",
       "      <td>8.0</td>\n",
       "      <td>1999</td>\n",
       "    </tr>\n",
       "  </tbody>\n",
       "</table>\n",
       "<p>250 rows × 4 columns</p>\n",
       "</div>"
      ],
      "text/plain": [
       "    rank                moive_name rating  year\n",
       "0      1  The Shawshank Redemption    9.2  1994\n",
       "1      2             The Godfather    9.2  1972\n",
       "2      3           The Dark Knight    9.0  2008\n",
       "3      4     The Godfather Part II    9.0  1974\n",
       "4      5              12 Angry Men    8.9  1957\n",
       "..   ...                       ...    ...   ...\n",
       "245  246                  Jai Bhim    8.0  2021\n",
       "246  247                   Aladdin    8.0  1992\n",
       "247  248                    Gandhi    8.0  1982\n",
       "248  249                  The Help    8.0  2011\n",
       "249  250            The Iron Giant    8.0  1999\n",
       "\n",
       "[250 rows x 4 columns]"
      ]
     },
     "execution_count": 75,
     "metadata": {},
     "output_type": "execute_result"
    }
   ],
   "source": [
    "moives"
   ]
  },
  {
   "cell_type": "code",
   "execution_count": 76,
   "id": "88fdcb25",
   "metadata": {},
   "outputs": [],
   "source": [
    "moives2 =[]"
   ]
  },
  {
   "cell_type": "code",
   "execution_count": 77,
   "id": "70507f51",
   "metadata": {},
   "outputs": [],
   "source": [
    "\n",
    "    response = requests.get('https://www.imdb.com/search/title/?genres=action&sort=user_rating,desc&title_type=feature&num_votes=25000,&pf_rd_m=A2FGELUUNOQJNL&pf_rd_p=5aab685f-35eb-40f3-95f7-c53f09d542c3&pf_rd_r=R16TS4AHBM0ZJ5XRYMS5&pf_rd_s=right-6&pf_rd_t=15506&pf_rd_i=top&ref_=chttp_gnr_1')\n",
    "    soup = BeautifulSoup(response.text,'html.parser')\n",
    "    m = soup.find('div',class_='lister-list').find_all('div',class_='lister-item')\n",
    "    \n",
    "    for i in m:\n",
    "        rank = i.find('h3').find('span',class_='lister-item-index').get_text(strip=True).split('.')[0];\n",
    "        name = i.find('h3').a.text\n",
    "        rating = i.find('div',class_='inline-block ratings-imdb-rating').strong.text\n",
    "        year = i.find('h3').find('span',class_='lister-item-year text-muted unbold').text.replace('(',\"\")\n",
    "        year = year.replace(')',\"\")\n",
    "        \n",
    "        moives2.append([rank,name,rating,year])\n",
    "        \n",
    "        \n",
    "        \n",
    "    \n",
    "    \n",
    "       \n",
    "        \n",
    "        \n",
    "    \n",
    "        \n",
    "    \n",
    "        \n"
   ]
  },
  {
   "cell_type": "code",
   "execution_count": 81,
   "id": "928ebe72",
   "metadata": {},
   "outputs": [],
   "source": [
    "moives2 = pd.DataFrame(moives2)"
   ]
  },
  {
   "cell_type": "code",
   "execution_count": 82,
   "id": "f899f5e5",
   "metadata": {},
   "outputs": [],
   "source": [
    "moives2.columns=['rank','moive_name','rating','year']"
   ]
  },
  {
   "cell_type": "code",
   "execution_count": 86,
   "id": "fe2979b2",
   "metadata": {},
   "outputs": [],
   "source": [
    "moive = pd.concat([moives,moives2])"
   ]
  },
  {
   "cell_type": "code",
   "execution_count": 90,
   "id": "dc26498e",
   "metadata": {},
   "outputs": [],
   "source": [
    "moive3 = []"
   ]
  },
  {
   "cell_type": "code",
   "execution_count": 92,
   "id": "314b1a02",
   "metadata": {},
   "outputs": [],
   "source": [
    "\n",
    "    response = requests.get('https://www.imdb.com/search/title/?title_type=feature&num_votes=25000,&genres=action&sort=user_rating,desc&start=51&ref_=adv_nxt')\n",
    "    soup = BeautifulSoup(response.text,'html.parser')\n",
    "    m = soup.find('div',class_='lister-list').find_all('div',class_='lister-item')\n",
    "    \n",
    "    for i in m:\n",
    "        rank = i.find('h3').find('span',class_='lister-item-index').get_text(strip=True).split('.')[0];\n",
    "        name = i.find('h3').a.text\n",
    "        rating = i.find('div',class_='inline-block ratings-imdb-rating').strong.text\n",
    "        year = i.find('h3').find('span',class_='lister-item-year text-muted unbold').text.replace('(',\"\")\n",
    "        year = year.replace(')',\"\")\n",
    "        \n",
    "        moive3.append([rank,name,rating,year])\n",
    "        \n",
    "        \n",
    "        \n",
    "    \n",
    "    \n",
    "       \n",
    "        \n",
    "        \n",
    "    \n",
    "        \n",
    "    \n",
    "        \n"
   ]
  },
  {
   "cell_type": "code",
   "execution_count": 94,
   "id": "a446ca87",
   "metadata": {},
   "outputs": [],
   "source": [
    "moive3 = pd.DataFrame(moive3)"
   ]
  },
  {
   "cell_type": "code",
   "execution_count": 95,
   "id": "b76aa379",
   "metadata": {},
   "outputs": [],
   "source": [
    "moive3.columns=['rank','moive_name','rating','year']"
   ]
  },
  {
   "cell_type": "code",
   "execution_count": 98,
   "id": "2b3e95f7",
   "metadata": {},
   "outputs": [],
   "source": [
    "moive = pd.concat([moive,moive3])"
   ]
  },
  {
   "cell_type": "code",
   "execution_count": 99,
   "id": "568354f9",
   "metadata": {},
   "outputs": [],
   "source": [
    "moive4 = []"
   ]
  },
  {
   "cell_type": "code",
   "execution_count": 100,
   "id": "dc8c220e",
   "metadata": {},
   "outputs": [],
   "source": [
    "\n",
    "    response = requests.get('https://www.imdb.com/search/title/?title_type=feature&num_votes=25000,&genres=action&sort=user_rating,desc&start=101&ref_=adv_nxt')\n",
    "    soup = BeautifulSoup(response.text,'html.parser')\n",
    "    m = soup.find('div',class_='lister-list').find_all('div',class_='lister-item')\n",
    "    \n",
    "    for i in m:\n",
    "        rank = i.find('h3').find('span',class_='lister-item-index').get_text(strip=True).split('.')[0];\n",
    "        name = i.find('h3').a.text\n",
    "        rating = i.find('div',class_='inline-block ratings-imdb-rating').strong.text\n",
    "        year = i.find('h3').find('span',class_='lister-item-year text-muted unbold').text.replace('(',\"\")\n",
    "        year = year.replace(')',\"\")\n",
    "        \n",
    "        moive4.append([rank,name,rating,year])\n",
    "        \n",
    "        \n",
    "        \n",
    "    \n",
    "    \n",
    "       \n",
    "        \n",
    "        \n",
    "    \n",
    "        \n",
    "    \n",
    "        \n"
   ]
  },
  {
   "cell_type": "code",
   "execution_count": 103,
   "id": "e3303f87",
   "metadata": {},
   "outputs": [],
   "source": [
    "moive4 = pd.DataFrame(moive4)"
   ]
  },
  {
   "cell_type": "code",
   "execution_count": 104,
   "id": "e045e15e",
   "metadata": {},
   "outputs": [],
   "source": [
    "moive4.columns=['rank','moive_name','rating','year']"
   ]
  },
  {
   "cell_type": "code",
   "execution_count": 106,
   "id": "8b1edcfb",
   "metadata": {},
   "outputs": [],
   "source": [
    "moive = pd.concat([moive,moive4])"
   ]
  },
  {
   "cell_type": "code",
   "execution_count": 107,
   "id": "4982a2f6",
   "metadata": {},
   "outputs": [
    {
     "data": {
      "text/html": [
       "<div>\n",
       "<style scoped>\n",
       "    .dataframe tbody tr th:only-of-type {\n",
       "        vertical-align: middle;\n",
       "    }\n",
       "\n",
       "    .dataframe tbody tr th {\n",
       "        vertical-align: top;\n",
       "    }\n",
       "\n",
       "    .dataframe thead th {\n",
       "        text-align: right;\n",
       "    }\n",
       "</style>\n",
       "<table border=\"1\" class=\"dataframe\">\n",
       "  <thead>\n",
       "    <tr style=\"text-align: right;\">\n",
       "      <th></th>\n",
       "      <th>rank</th>\n",
       "      <th>moive_name</th>\n",
       "      <th>rating</th>\n",
       "      <th>year</th>\n",
       "    </tr>\n",
       "  </thead>\n",
       "  <tbody>\n",
       "    <tr>\n",
       "      <th>0</th>\n",
       "      <td>1</td>\n",
       "      <td>The Shawshank Redemption</td>\n",
       "      <td>9.2</td>\n",
       "      <td>1994</td>\n",
       "    </tr>\n",
       "    <tr>\n",
       "      <th>1</th>\n",
       "      <td>2</td>\n",
       "      <td>The Godfather</td>\n",
       "      <td>9.2</td>\n",
       "      <td>1972</td>\n",
       "    </tr>\n",
       "    <tr>\n",
       "      <th>2</th>\n",
       "      <td>3</td>\n",
       "      <td>The Dark Knight</td>\n",
       "      <td>9.0</td>\n",
       "      <td>2008</td>\n",
       "    </tr>\n",
       "    <tr>\n",
       "      <th>3</th>\n",
       "      <td>4</td>\n",
       "      <td>The Godfather Part II</td>\n",
       "      <td>9.0</td>\n",
       "      <td>1974</td>\n",
       "    </tr>\n",
       "    <tr>\n",
       "      <th>4</th>\n",
       "      <td>5</td>\n",
       "      <td>12 Angry Men</td>\n",
       "      <td>8.9</td>\n",
       "      <td>1957</td>\n",
       "    </tr>\n",
       "    <tr>\n",
       "      <th>...</th>\n",
       "      <td>...</td>\n",
       "      <td>...</td>\n",
       "      <td>...</td>\n",
       "      <td>...</td>\n",
       "    </tr>\n",
       "    <tr>\n",
       "      <th>45</th>\n",
       "      <td>146</td>\n",
       "      <td>Jûbê ninpûchô</td>\n",
       "      <td>7.8</td>\n",
       "      <td>1993</td>\n",
       "    </tr>\n",
       "    <tr>\n",
       "      <th>46</th>\n",
       "      <td>147</td>\n",
       "      <td>The Fugitive</td>\n",
       "      <td>7.8</td>\n",
       "      <td>1993</td>\n",
       "    </tr>\n",
       "    <tr>\n",
       "      <th>47</th>\n",
       "      <td>148</td>\n",
       "      <td>Batman: Mask of the Phantasm</td>\n",
       "      <td>7.8</td>\n",
       "      <td>1993</td>\n",
       "    </tr>\n",
       "    <tr>\n",
       "      <th>48</th>\n",
       "      <td>149</td>\n",
       "      <td>Dip huet seung hung</td>\n",
       "      <td>7.8</td>\n",
       "      <td>1989</td>\n",
       "    </tr>\n",
       "    <tr>\n",
       "      <th>49</th>\n",
       "      <td>150</td>\n",
       "      <td>Predator</td>\n",
       "      <td>7.8</td>\n",
       "      <td>1987</td>\n",
       "    </tr>\n",
       "  </tbody>\n",
       "</table>\n",
       "<p>400 rows × 4 columns</p>\n",
       "</div>"
      ],
      "text/plain": [
       "   rank                    moive_name rating  year\n",
       "0     1      The Shawshank Redemption    9.2  1994\n",
       "1     2                 The Godfather    9.2  1972\n",
       "2     3               The Dark Knight    9.0  2008\n",
       "3     4         The Godfather Part II    9.0  1974\n",
       "4     5                  12 Angry Men    8.9  1957\n",
       "..  ...                           ...    ...   ...\n",
       "45  146                 Jûbê ninpûchô    7.8  1993\n",
       "46  147                  The Fugitive    7.8  1993\n",
       "47  148  Batman: Mask of the Phantasm    7.8  1993\n",
       "48  149           Dip huet seung hung    7.8  1989\n",
       "49  150                      Predator    7.8  1987\n",
       "\n",
       "[400 rows x 4 columns]"
      ]
     },
     "execution_count": 107,
     "metadata": {},
     "output_type": "execute_result"
    }
   ],
   "source": [
    "moive"
   ]
  },
  {
   "cell_type": "code",
   "execution_count": 108,
   "id": "4835512f",
   "metadata": {},
   "outputs": [],
   "source": [
    "moive5 = []"
   ]
  },
  {
   "cell_type": "code",
   "execution_count": 109,
   "id": "71360161",
   "metadata": {},
   "outputs": [],
   "source": [
    "\n",
    "    response = requests.get('https://www.imdb.com/search/title/?title_type=feature&num_votes=25000,&genres=action&sort=user_rating,desc&start=151&ref_=adv_nxt')\n",
    "    soup = BeautifulSoup(response.text,'html.parser')\n",
    "    m = soup.find('div',class_='lister-list').find_all('div',class_='lister-item')\n",
    "    \n",
    "    for i in m:\n",
    "        rank = i.find('h3').find('span',class_='lister-item-index').get_text(strip=True).split('.')[0];\n",
    "        name = i.find('h3').a.text\n",
    "        rating = i.find('div',class_='inline-block ratings-imdb-rating').strong.text\n",
    "        year = i.find('h3').find('span',class_='lister-item-year text-muted unbold').text.replace('(',\"\")\n",
    "        year = year.replace(')',\"\")\n",
    "        \n",
    "        moive5.append([rank,name,rating,year])\n",
    "        \n",
    "        \n",
    "        \n",
    "    \n",
    "    \n",
    "       \n",
    "        \n",
    "        \n",
    "    \n",
    "        \n",
    "    \n",
    "        \n"
   ]
  },
  {
   "cell_type": "code",
   "execution_count": 110,
   "id": "5435f6a0",
   "metadata": {},
   "outputs": [],
   "source": [
    "moive5 = pd.DataFrame(moive5)"
   ]
  },
  {
   "cell_type": "code",
   "execution_count": 112,
   "id": "65d8b6c7",
   "metadata": {},
   "outputs": [],
   "source": [
    "moive5.columns=['rank','moive_name','rating','year']"
   ]
  },
  {
   "cell_type": "code",
   "execution_count": 113,
   "id": "3d12191a",
   "metadata": {},
   "outputs": [],
   "source": [
    "moive = pd.concat([moive,moive5])"
   ]
  },
  {
   "cell_type": "code",
   "execution_count": 114,
   "id": "0c7a02b2",
   "metadata": {},
   "outputs": [
    {
     "data": {
      "text/html": [
       "<div>\n",
       "<style scoped>\n",
       "    .dataframe tbody tr th:only-of-type {\n",
       "        vertical-align: middle;\n",
       "    }\n",
       "\n",
       "    .dataframe tbody tr th {\n",
       "        vertical-align: top;\n",
       "    }\n",
       "\n",
       "    .dataframe thead th {\n",
       "        text-align: right;\n",
       "    }\n",
       "</style>\n",
       "<table border=\"1\" class=\"dataframe\">\n",
       "  <thead>\n",
       "    <tr style=\"text-align: right;\">\n",
       "      <th></th>\n",
       "      <th>rank</th>\n",
       "      <th>moive_name</th>\n",
       "      <th>rating</th>\n",
       "      <th>year</th>\n",
       "    </tr>\n",
       "  </thead>\n",
       "  <tbody>\n",
       "    <tr>\n",
       "      <th>0</th>\n",
       "      <td>1</td>\n",
       "      <td>The Shawshank Redemption</td>\n",
       "      <td>9.2</td>\n",
       "      <td>1994</td>\n",
       "    </tr>\n",
       "    <tr>\n",
       "      <th>1</th>\n",
       "      <td>2</td>\n",
       "      <td>The Godfather</td>\n",
       "      <td>9.2</td>\n",
       "      <td>1972</td>\n",
       "    </tr>\n",
       "    <tr>\n",
       "      <th>2</th>\n",
       "      <td>3</td>\n",
       "      <td>The Dark Knight</td>\n",
       "      <td>9.0</td>\n",
       "      <td>2008</td>\n",
       "    </tr>\n",
       "    <tr>\n",
       "      <th>3</th>\n",
       "      <td>4</td>\n",
       "      <td>The Godfather Part II</td>\n",
       "      <td>9.0</td>\n",
       "      <td>1974</td>\n",
       "    </tr>\n",
       "    <tr>\n",
       "      <th>4</th>\n",
       "      <td>5</td>\n",
       "      <td>12 Angry Men</td>\n",
       "      <td>8.9</td>\n",
       "      <td>1957</td>\n",
       "    </tr>\n",
       "    <tr>\n",
       "      <th>...</th>\n",
       "      <td>...</td>\n",
       "      <td>...</td>\n",
       "      <td>...</td>\n",
       "      <td>...</td>\n",
       "    </tr>\n",
       "    <tr>\n",
       "      <th>45</th>\n",
       "      <td>196</td>\n",
       "      <td>Incredibles 2</td>\n",
       "      <td>7.6</td>\n",
       "      <td>2018</td>\n",
       "    </tr>\n",
       "    <tr>\n",
       "      <th>46</th>\n",
       "      <td>197</td>\n",
       "      <td>Sicario</td>\n",
       "      <td>7.6</td>\n",
       "      <td>2015</td>\n",
       "    </tr>\n",
       "    <tr>\n",
       "      <th>47</th>\n",
       "      <td>198</td>\n",
       "      <td>Creed</td>\n",
       "      <td>7.6</td>\n",
       "      <td>II 2015</td>\n",
       "    </tr>\n",
       "    <tr>\n",
       "      <th>48</th>\n",
       "      <td>199</td>\n",
       "      <td>Dawn of the Planet of the Apes</td>\n",
       "      <td>7.6</td>\n",
       "      <td>2014</td>\n",
       "    </tr>\n",
       "    <tr>\n",
       "      <th>49</th>\n",
       "      <td>200</td>\n",
       "      <td>El cuerpo</td>\n",
       "      <td>7.6</td>\n",
       "      <td>2012</td>\n",
       "    </tr>\n",
       "  </tbody>\n",
       "</table>\n",
       "<p>450 rows × 4 columns</p>\n",
       "</div>"
      ],
      "text/plain": [
       "   rank                      moive_name rating     year\n",
       "0     1        The Shawshank Redemption    9.2     1994\n",
       "1     2                   The Godfather    9.2     1972\n",
       "2     3                 The Dark Knight    9.0     2008\n",
       "3     4           The Godfather Part II    9.0     1974\n",
       "4     5                    12 Angry Men    8.9     1957\n",
       "..  ...                             ...    ...      ...\n",
       "45  196                   Incredibles 2    7.6     2018\n",
       "46  197                         Sicario    7.6     2015\n",
       "47  198                           Creed    7.6  II 2015\n",
       "48  199  Dawn of the Planet of the Apes    7.6     2014\n",
       "49  200                       El cuerpo    7.6     2012\n",
       "\n",
       "[450 rows x 4 columns]"
      ]
     },
     "execution_count": 114,
     "metadata": {},
     "output_type": "execute_result"
    }
   ],
   "source": [
    "moive"
   ]
  },
  {
   "cell_type": "code",
   "execution_count": 116,
   "id": "070e554e",
   "metadata": {},
   "outputs": [],
   "source": [
    "moive.to_csv('moives.csv',index = False)"
   ]
  },
  {
   "cell_type": "code",
   "execution_count": null,
   "id": "03f45228",
   "metadata": {},
   "outputs": [],
   "source": []
  },
  {
   "cell_type": "code",
   "execution_count": null,
   "id": "07beb05d",
   "metadata": {},
   "outputs": [],
   "source": []
  }
 ],
 "metadata": {
  "kernelspec": {
   "display_name": "Python 3 (ipykernel)",
   "language": "python",
   "name": "python3"
  },
  "language_info": {
   "codemirror_mode": {
    "name": "ipython",
    "version": 3
   },
   "file_extension": ".py",
   "mimetype": "text/x-python",
   "name": "python",
   "nbconvert_exporter": "python",
   "pygments_lexer": "ipython3",
   "version": "3.8.8"
  }
 },
 "nbformat": 4,
 "nbformat_minor": 5
}
